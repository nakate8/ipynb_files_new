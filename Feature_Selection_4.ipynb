{
 "cells": [
  {
   "cell_type": "markdown",
   "id": "c7a26e38-4e2b-490d-86b4-cf34ab5f03c1",
   "metadata": {},
   "source": [
    "## Initial Feature Ranking with Tree-Based Methods"
   ]
  },
  {
   "cell_type": "code",
   "execution_count": null,
   "id": "4baec746-0655-4637-999e-1c0f6693cc2e",
   "metadata": {},
   "outputs": [],
   "source": [
    "import pandas as pd\n",
    "from sklearn.ensemble import RandomForestClassifier\n",
    "from sklearn.model_selection import train_test_split\n",
    "import matplotlib.pyplot as plt\n",
    "import seaborn as sns\n",
    "\n",
    "# Define features and target\n",
    "X = df.drop(columns=['occurrence'])  # Exclude the target column\n",
    "y = df['occurrence']\n",
    "\n",
    "# Split the data\n",
    "X_train, X_test, y_train, y_test = train_test_split(X, y, test_size=0.3, random_state=42)\n",
    "\n",
    "# Initialize and train the RandomForestClassifier\n",
    "rf = RandomForestClassifier(n_estimators=100, random_state=42)\n",
    "rf.fit(X_train, y_train)\n",
    "\n",
    "# Get feature importances\n",
    "importances = rf.feature_importances_\n",
    "feature_names = X.columns\n",
    "\n",
    "# Create a DataFrame for visualization\n",
    "feature_importance_df = pd.DataFrame({\n",
    "    'Feature': feature_names,\n",
    "    'Importance': importances\n",
    "}).sort_values(by='Importance', ascending=False)\n",
    "\n",
    "# Plot feature importances\n",
    "plt.figure(figsize=(12, 8))\n",
    "sns.barplot(x='Importance', y='Feature', data=feature_importance_df)\n",
    "plt.title('Feature Importances from Random Forest')\n",
    "plt.show()\n",
    "\n",
    "# Print feature importances\n",
    "print(feature_importance_df)\n"
   ]
  },
  {
   "cell_type": "markdown",
   "id": "703cb82a-6946-4b09-8d4f-ac8e1915d8c8",
   "metadata": {},
   "source": [
    "## Detailed Feature Selection with Recursive Feature Elimination (RFE)"
   ]
  },
  {
   "cell_type": "code",
   "execution_count": null,
   "id": "84c8dfbf-ea5c-4e9b-92d4-9866381ae425",
   "metadata": {},
   "outputs": [],
   "source": [
    "from sklearn.feature_selection import RFE\n",
    "from sklearn.ensemble import RandomForestClassifier\n",
    "from sklearn.metrics import accuracy_score, classification_report\n",
    "import pandas as pd\n",
    "\n",
    "# Assuming rf is already defined as a RandomForestClassifier\n",
    "rf = RandomForestClassifier(n_estimators=100, random_state=42)\n",
    "\n",
    "# Initialize RFE with RandomForestClassifier\n",
    "rfe = RFE(estimator=rf, n_features_to_select=11)  # Adjust number of features to 11\n",
    "rfe.fit(X_train, y_train)\n",
    "\n",
    "# Get RFE rankings\n",
    "rfe_ranking = pd.DataFrame({\n",
    "    'Feature': X_train.columns,\n",
    "    'Ranking': rfe.ranking_\n",
    "}).sort_values(by='Ranking')\n",
    "\n",
    "# Print RFE rankings\n",
    "print(\"RFE Rankings:\")\n",
    "print(rfe_ranking)\n",
    "\n",
    "# Filter features selected by RFE\n",
    "selected_features = rfe_ranking[rfe_ranking['Ranking'] == 1]['Feature'].tolist()\n",
    "print(\"Selected Features:\", selected_features)\n",
    "\n",
    "# Optionally, retrain a model with selected features\n",
    "X_train_rfe = X_train[selected_features]\n",
    "X_test_rfe = X_test[selected_features]\n",
    "\n",
    "# Initialize and train the RandomForestClassifier with selected features\n",
    "rf_rfe = RandomForestClassifier(n_estimators=100, random_state=42)\n",
    "rf_rfe.fit(X_train_rfe, y_train)\n",
    "\n",
    "# Evaluate the model\n",
    "y_pred_rfe = rf_rfe.predict(X_test_rfe)\n",
    "print(\"Accuracy with RFE-selected features:\", accuracy_score(y_test, y_pred_rfe))\n",
    "print(\"Classification Report:\\n\", classification_report(y_test, y_pred_rfe))\n"
   ]
  },
  {
   "cell_type": "code",
   "execution_count": null,
   "id": "b273a4c8-72a4-4c11-a228-6194b1826a5f",
   "metadata": {},
   "outputs": [],
   "source": []
  },
  {
   "cell_type": "code",
   "execution_count": null,
   "id": "939a76c0-0a13-411b-aa70-e4c0320ba059",
   "metadata": {},
   "outputs": [],
   "source": []
  },
  {
   "cell_type": "code",
   "execution_count": null,
   "id": "4c64e613-46c5-4e92-a105-de60f09d86b4",
   "metadata": {},
   "outputs": [],
   "source": []
  },
  {
   "cell_type": "code",
   "execution_count": null,
   "id": "60a82ddd-3c88-498f-ac7f-f05187ca2025",
   "metadata": {},
   "outputs": [],
   "source": []
  }
 ],
 "metadata": {
  "kernelspec": {
   "display_name": "Python 3 (ipykernel)",
   "language": "python",
   "name": "python3"
  },
  "language_info": {
   "codemirror_mode": {
    "name": "ipython",
    "version": 3
   },
   "file_extension": ".py",
   "mimetype": "text/x-python",
   "name": "python",
   "nbconvert_exporter": "python",
   "pygments_lexer": "ipython3",
   "version": "3.12.3"
  }
 },
 "nbformat": 4,
 "nbformat_minor": 5
}
