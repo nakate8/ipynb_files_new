{
 "cells": [
  {
   "cell_type": "code",
   "execution_count": null,
   "id": "478fbace-8e72-4985-b1fb-cea2ef2538cf",
   "metadata": {},
   "outputs": [],
   "source": [
    "df=pd.read_csv(r\"updated_dataframe.csv\")"
   ]
  },
  {
   "cell_type": "code",
   "execution_count": null,
   "id": "98524a0a-4e97-4ba7-8d72-6bffa9645a2d",
   "metadata": {},
   "outputs": [],
   "source": [
    "df.columns"
   ]
  },
  {
   "cell_type": "code",
   "execution_count": null,
   "id": "361a5a6f-a598-459b-b7a5-8c0abf4323d5",
   "metadata": {},
   "outputs": [],
   "source": [
    "import numpy as np\n",
    "from sklearn.model_selection import train_test_split\n",
    "from sklearn.linear_model import LogisticRegression\n",
    "from sklearn.metrics import roc_curve"
   ]
  },
  {
   "cell_type": "code",
   "execution_count": null,
   "id": "1850c0a5-a706-4b5f-9071-cb54336cfd72",
   "metadata": {},
   "outputs": [],
   "source": [
    "optimal_threshold = 0.5\n",
    "\n",
    "# Create the 'occurrence' column based on the threshold\n",
    "df['occurrence'] = (df['FloodProbability'] >= optimal_threshold).astype(int)\n",
    "\n",
    "# Display the first few rows of the updated DataFrame to confirm\n",
    "print(df.head())\n"
   ]
  },
  {
   "cell_type": "code",
   "execution_count": null,
   "id": "ec1e3e25-cafb-4d37-a535-5604431100fb",
   "metadata": {},
   "outputs": [],
   "source": [
    "X_train, X_test, y_train, y_test = train_test_split(X, y, test_size=0.3, random_state=42)\n",
    "\n",
    "# Train a logistic regression model\n",
    "model = LogisticRegression()\n",
    "model.fit(X_train, y_train)\n",
    "\n",
    "# Get predicted probabilities\n",
    "y_probs = model.predict_proba(X_test)[:, 1]\n",
    "\n",
    "# Calculate ROC curve\n",
    "fpr, tpr, thresholds = roc_curve(y_test, y_probs)\n",
    "\n",
    "# Find the optimal threshold (for example, using Youden's J statistic)\n",
    "optimal_idx = np.argmax(tpr - fpr)\n",
    "optimal_threshold = thresholds[optimal_idx]\n",
    "\n",
    "print(\"Optimal Threshold:\", optimal_threshold)"
   ]
  },
  {
   "cell_type": "code",
   "execution_count": null,
   "id": "a381b9ca-63f7-426b-9c8f-dd9ac7795e5b",
   "metadata": {},
   "outputs": [],
   "source": []
  },
  {
   "cell_type": "code",
   "execution_count": null,
   "id": "8f519db1-2b1c-4d84-8db0-60992b58ece9",
   "metadata": {},
   "outputs": [],
   "source": [
    "df.columns"
   ]
  },
  {
   "cell_type": "code",
   "execution_count": null,
   "id": "e6be609b-bc0c-4a08-aca8-ac0cfb0abea5",
   "metadata": {},
   "outputs": [],
   "source": [
    "df.drop(columns=['probaility_condition','FloodProbability'], inplace=True)"
   ]
  },
  {
   "cell_type": "code",
   "execution_count": null,
   "id": "77bce86c-373e-4c6e-91b5-5fed043fc4ea",
   "metadata": {},
   "outputs": [],
   "source": [
    "df.drop(columns=['ClimateAnthropogenicInteraction','InfrastructurePreventionInteraction'], inplace=True)"
   ]
  },
  {
   "cell_type": "code",
   "execution_count": null,
   "id": "e548230d-f1f6-4d8f-8a77-0147916a909f",
   "metadata": {},
   "outputs": [],
   "source": [
    "df"
   ]
  },
  {
   "cell_type": "code",
   "execution_count": null,
   "id": "473be558-4e04-4073-ae9d-1c6ce7fb0fe7",
   "metadata": {},
   "outputs": [],
   "source": [
    "import pandas as pd\n",
    "from sklearn.preprocessing import MinMaxScaler\n",
    "\n",
    "# Assuming df is your original DataFrame\n",
    "features_to_scale = [\n",
    "    'MonsoonIntensity', 'TopographyDrainage', 'RiverManagement',\n",
    "    'Deforestation', 'Urbanization', 'ClimateChange', 'DamsQuality',\n",
    "    'Siltation', 'AgriculturalPractices', 'Encroachments',\n",
    "    'IneffectiveDisasterPreparedness', 'DrainageSystems',\n",
    "    'CoastalVulnerability', 'Landslides', 'Watersheds',\n",
    "    'DeterioratingInfrastructure', 'PopulationScore', 'WetlandLoss',\n",
    "    'InadequatePlanning', 'PoliticalFactors'\n",
    "]\n",
    "\n",
    "# Separate features and target\n",
    "X = df[features_to_scale]\n",
    "y = df['occurrence']\n",
    "\n",
    "# Initialize MinMaxScaler\n",
    "scaler = MinMaxScaler()\n",
    "\n",
    "# Fit and transform the features\n",
    "X_normalized = scaler.fit_transform(X)\n",
    "\n",
    "# Create a DataFrame with normalized features\n",
    "df_normalized = pd.DataFrame(X_normalized, columns=features_to_scale)\n",
    "\n",
    "# Add the occurrence column\n",
    "df_normalized['occurrence'] = y.values\n",
    "\n",
    "# Save the normalized DataFrame to a CSV file\n",
    "df_normalized.to_csv('df_normalized.csv', index=False)\n"
   ]
  },
  {
   "cell_type": "code",
   "execution_count": null,
   "id": "776f13c6-8fe0-4c9d-8667-657acc86468e",
   "metadata": {},
   "outputs": [],
   "source": [
    "df_normalized.shape"
   ]
  },
  {
   "cell_type": "code",
   "execution_count": null,
   "id": "0d2bfbdf-d2d9-48e6-b910-a3426be6a2c5",
   "metadata": {},
   "outputs": [],
   "source": [
    "len(np.where(df.occurrence==1)[0])"
   ]
  },
  {
   "cell_type": "code",
   "execution_count": null,
   "id": "0daba9c7-b100-4a9d-a767-ba7c1174ebb7",
   "metadata": {},
   "outputs": [],
   "source": [
    "import plotly.express as px\n",
    "class_distribution = df['occurrence'].value_counts()\n",
    "class_distribution\n",
    "colors = ['#FF6347', '#4682B4'] \n",
    "labels = {0: 'No Flood', 1: 'Flood'}\n",
    "\n",
    "fig = px.pie(\n",
    "    names=class_distribution.index, \n",
    "    values=class_distribution.values,\n",
    "    color=class_distribution.index,\n",
    "    color_discrete_map=labels,\n",
    "    title='Class Distribution in probaility_condition',\n",
    "    hole=0.3,  # Donut chart\n",
    "    labels=labels  # Update labels\n",
    ")\n",
    "\n",
    "fig.show()\n"
   ]
  },
  {
   "cell_type": "code",
   "execution_count": null,
   "id": "90ad1e85-5e8f-409e-8c23-f55d572c4b85",
   "metadata": {},
   "outputs": [],
   "source": [
    "min_max={}\n",
    "for col in df.columns:\n",
    "    min_max[col]=[df[col].min(),df[col].max()]"
   ]
  },
  {
   "cell_type": "code",
   "execution_count": null,
   "id": "8bc24b5c-05d3-4028-bfe7-2cf164090b64",
   "metadata": {},
   "outputs": [],
   "source": [
    "min_max"
   ]
  },
  {
   "cell_type": "code",
   "execution_count": null,
   "id": "24a0a71d-193c-4a2d-bd86-9f74a97ad1ce",
   "metadata": {},
   "outputs": [],
   "source": [
    "df.shape"
   ]
  },
  {
   "cell_type": "code",
   "execution_count": null,
   "id": "16b4c521-8d14-4dc5-b74f-2285182e50de",
   "metadata": {},
   "outputs": [],
   "source": []
  }
 ],
 "metadata": {
  "kernelspec": {
   "display_name": "Python 3 (ipykernel)",
   "language": "python",
   "name": "python3"
  },
  "language_info": {
   "codemirror_mode": {
    "name": "ipython",
    "version": 3
   },
   "file_extension": ".py",
   "mimetype": "text/x-python",
   "name": "python",
   "nbconvert_exporter": "python",
   "pygments_lexer": "ipython3",
   "version": "3.12.3"
  }
 },
 "nbformat": 4,
 "nbformat_minor": 5
}
