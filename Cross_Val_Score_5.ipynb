{
 "cells": [
  {
   "cell_type": "markdown",
   "id": "b95f6964-d981-45d0-b8f9-330598d64048",
   "metadata": {},
   "source": [
    "## cross_val_score"
   ]
  },
  {
   "cell_type": "code",
   "execution_count": null,
   "id": "7ba59294-8092-41b1-82c7-170aa4e944d3",
   "metadata": {},
   "outputs": [],
   "source": [
    "from sklearn.model_selection import cross_val_score\n",
    "import matplotlib.pyplot as plt\n",
    "\n",
    "# Cross-validation\n",
    "cv_scores = cross_val_score(rf_rfe, X_train_rfe, y_train, cv=5)  # 5-fold cross-validation\n",
    "print(\"Cross-validation Scores:\", cv_scores)\n",
    "print(\"Mean Cross-validation Score:\", cv_scores.mean())\n",
    "\n",
    "# Feature importances\n",
    "importances = rf_rfe.feature_importances_\n",
    "feature_importances = pd.DataFrame({'Feature': selected_features, 'Importance': importances})\n",
    "print(\"Feature Importances:\")\n",
    "print(feature_importances.sort_values(by='Importance', ascending=False))\n",
    "\n",
    "# Plot feature importances\n",
    "plt.figure(figsize=(10, 8))\n",
    "plt.barh(feature_importances['Feature'], feature_importances['Importance'])\n",
    "plt.xlabel('Importance')\n",
    "plt.ylabel('Feature')\n",
    "plt.title('Feature Importances')\n",
    "plt.gca().invert_yaxis()\n",
    "plt.show()\n"
   ]
  },
  {
   "cell_type": "markdown",
   "id": "be7956f6-2004-439b-be69-d70823a8b07f",
   "metadata": {},
   "source": [
    "## 1. Create DataFrame with Selected Features"
   ]
  },
  {
   "cell_type": "code",
   "execution_count": null,
   "id": "94998666-ead7-4aee-8136-35bc0b095b51",
   "metadata": {},
   "outputs": [],
   "source": [
    "import pandas as pd\n",
    "\n",
    "# Assuming df is your original DataFrame\n",
    "selected_features = [\n",
    "    'MonsoonIntensity', 'WetlandLoss', 'PopulationScore',\n",
    "    'DeterioratingInfrastructure', 'Landslides', 'CoastalVulnerability',\n",
    "    'PoliticalFactors', 'IneffectiveDisasterPreparedness', 'TopographyDrainage',\n",
    "    'Siltation'\n",
    "]\n",
    "\n",
    "# Create a new DataFrame with selected features and target column 'occurrence'\n",
    "df_selected = df[selected_features + ['occurrence']]\n"
   ]
  },
  {
   "cell_type": "code",
   "execution_count": null,
   "id": "7ae85cbe-388b-419e-9631-e39d005ba33b",
   "metadata": {},
   "outputs": [],
   "source": [
    "df_selected.to_csv('features.csv', index=False)"
   ]
  },
  {
   "cell_type": "code",
   "execution_count": null,
   "id": "5887aa90-3c77-460e-af3c-2613c8369c3a",
   "metadata": {},
   "outputs": [],
   "source": [
    "df_selected"
   ]
  },
  {
   "cell_type": "markdown",
   "id": "c2b4fe1c-0595-4731-a731-9caf7acd3c5b",
   "metadata": {},
   "source": [
    "## 2. Normalize the Data"
   ]
  },
  {
   "cell_type": "code",
   "execution_count": null,
   "id": "8c9e521c-606f-4ec2-a1da-2f135ca2e444",
   "metadata": {},
   "outputs": [],
   "source": [
    "from sklearn.preprocessing import MinMaxScaler\n",
    "\n",
    "# Initialize MinMaxScaler\n",
    "scaler = MinMaxScaler()\n",
    "\n",
    "# Separate features and target\n",
    "X = df_selected[selected_features]\n",
    "y = df_selected['occurrence']\n",
    "\n",
    "# Fit and transform the features\n",
    "X_normalized = scaler.fit_transform(X)\n",
    "\n",
    "# Create a DataFrame with normalized features\n",
    "df_normalized = pd.DataFrame(X_normalized, columns=selected_features)\n",
    "df_normalized['occurrence'] = y.values"
   ]
  },
  {
   "cell_type": "code",
   "execution_count": null,
   "id": "36f8b36b-11f7-4bf6-91ca-36a184662ec7",
   "metadata": {},
   "outputs": [],
   "source": [
    "df_normalized.to_csv('normalized_features.csv', index=False)"
   ]
  },
  {
   "cell_type": "code",
   "execution_count": null,
   "id": "72ac7a37-ea5c-4ae5-b019-fdd8a97b9183",
   "metadata": {},
   "outputs": [],
   "source": [
    "import pickle\n",
    "file_name='scaler.sav'\n",
    "pickle.dump(scaler,open(file_name,'wb'))"
   ]
  },
  {
   "cell_type": "code",
   "execution_count": null,
   "id": "8a57a17e-ecb0-4d5f-a91c-4658c5c2a2cb",
   "metadata": {},
   "outputs": [],
   "source": [
    "df_normalized"
   ]
  },
  {
   "cell_type": "code",
   "execution_count": null,
   "id": "9a611d81-1d4a-4afc-b316-8836f7553d25",
   "metadata": {},
   "outputs": [],
   "source": [
    "from sklearn.model_selection import train_test_split\n",
    "\n",
    "# Split the data\n",
    "X_train, X_test, y_train, y_test = train_test_split(\n",
    "    df_normalized[selected_features], df_normalized['occurrence'],\n",
    "    test_size=0.3, random_state=42\n",
    ")\n"
   ]
  },
  {
   "cell_type": "code",
   "execution_count": null,
   "id": "d0a92fbe-2122-4b1a-882f-f0923f997825",
   "metadata": {},
   "outputs": [],
   "source": []
  },
  {
   "cell_type": "code",
   "execution_count": null,
   "id": "7ad266eb-16d7-4bd6-905e-62dfe057b142",
   "metadata": {},
   "outputs": [],
   "source": []
  },
  {
   "cell_type": "code",
   "execution_count": null,
   "id": "e675a82d-c992-4227-8485-26116a6e0c98",
   "metadata": {},
   "outputs": [],
   "source": []
  },
  {
   "cell_type": "code",
   "execution_count": null,
   "id": "3921c7c0-315c-487d-9200-da6d8943d185",
   "metadata": {},
   "outputs": [],
   "source": []
  },
  {
   "cell_type": "code",
   "execution_count": null,
   "id": "ba1b9026-6c9e-4812-b3ae-c0e6f12f9fe3",
   "metadata": {},
   "outputs": [],
   "source": []
  },
  {
   "cell_type": "code",
   "execution_count": null,
   "id": "bcf44013-b7f2-437d-b0b4-3e358e7d2321",
   "metadata": {},
   "outputs": [],
   "source": []
  },
  {
   "cell_type": "code",
   "execution_count": null,
   "id": "21a15f4f-82c3-4923-a541-05e4a68e6ed4",
   "metadata": {},
   "outputs": [],
   "source": []
  },
  {
   "cell_type": "code",
   "execution_count": null,
   "id": "e71e9711-9d17-424a-b315-5f6711450291",
   "metadata": {},
   "outputs": [],
   "source": []
  }
 ],
 "metadata": {
  "kernelspec": {
   "display_name": "Python 3 (ipykernel)",
   "language": "python",
   "name": "python3"
  },
  "language_info": {
   "codemirror_mode": {
    "name": "ipython",
    "version": 3
   },
   "file_extension": ".py",
   "mimetype": "text/x-python",
   "name": "python",
   "nbconvert_exporter": "python",
   "pygments_lexer": "ipython3",
   "version": "3.12.3"
  }
 },
 "nbformat": 4,
 "nbformat_minor": 5
}
