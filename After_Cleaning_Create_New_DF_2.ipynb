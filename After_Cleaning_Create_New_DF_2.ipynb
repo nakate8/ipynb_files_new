{
 "cells": [
  {
   "cell_type": "markdown",
   "id": "4b60a578-2fe6-45c3-96f8-a26610e375d7",
   "metadata": {},
   "source": [
    "## Created New DF"
   ]
  },
  {
   "cell_type": "code",
   "execution_count": null,
   "id": "ea9110d7-70c3-4af8-a1bf-25abd5a26bf2",
   "metadata": {},
   "outputs": [],
   "source": [
    "df.to_csv('D:/DBDA/project/a2/excel/updated_dataframe.csv', index=False)"
   ]
  },
  {
   "cell_type": "code",
   "execution_count": null,
   "id": "e00d7be1-e4a8-40bf-a7c7-97b5dbc34fca",
   "metadata": {},
   "outputs": [],
   "source": [
    "df1=pd.read_csv(r'D:/DBDA/project/a2/excel/updated_dataframe.csv')"
   ]
  },
  {
   "cell_type": "code",
   "execution_count": null,
   "id": "4768c9d0-e469-4ab4-8de4-8fd357f29acc",
   "metadata": {},
   "outputs": [],
   "source": [
    "df1"
   ]
  },
  {
   "cell_type": "code",
   "execution_count": null,
   "id": "0eb375bc-6d8a-4c93-8b2a-bffba03567a2",
   "metadata": {},
   "outputs": [],
   "source": [
    "df=pd.read_csv(r\"updated_dataframe.csv\")"
   ]
  },
  {
   "cell_type": "code",
   "execution_count": null,
   "id": "290475d8-6851-462d-a7e3-e23bc1d5b829",
   "metadata": {},
   "outputs": [],
   "source": [
    "df.head()"
   ]
  },
  {
   "cell_type": "code",
   "execution_count": null,
   "id": "e3442f7a-c3e0-4cb7-8fe6-41c180d665f2",
   "metadata": {},
   "outputs": [],
   "source": [
    "df.dtypes"
   ]
  },
  {
   "cell_type": "markdown",
   "id": "f6eb258b-096b-4916-8156-d91bfd675ba3",
   "metadata": {},
   "source": [
    "## Exploratory Visualization and summary statistics"
   ]
  },
  {
   "cell_type": "code",
   "execution_count": null,
   "id": "c8a53450-0059-4008-8e41-427675c7a876",
   "metadata": {},
   "outputs": [],
   "source": [
    "n_cols = 4\n",
    "n_rows = (len(columns) + n_cols - 1) // n_cols  \n",
    "\n",
    "plt.figure(figsize=(n_cols * 5, n_rows * 4)) \n",
    "\n",
    "for i, column in enumerate(columns, 1):\n",
    "    plt.subplot(n_rows, n_cols, i)\n",
    "    sns.histplot(df[column], bins=30, kde=True)\n",
    "    plt.title(f'Histogram: {column}')\n",
    "    plt.xlabel('')\n",
    "    plt.ylabel('')\n",
    "\n",
    "plt.tight_layout()\n",
    "plt.show()"
   ]
  },
  {
   "cell_type": "code",
   "execution_count": null,
   "id": "43a8d95c-9e5a-41cc-827d-1b7828c57249",
   "metadata": {},
   "outputs": [],
   "source": [
    "columns = ['MonsoonIntensity', 'TopographyDrainage', 'RiverManagement',\n",
    "           'Deforestation', 'Urbanization', 'ClimateChange', 'DamsQuality',\n",
    "           'Siltation', 'AgriculturalPractices', 'Encroachments',\n",
    "           'IneffectiveDisasterPreparedness', 'DrainageSystems',\n",
    "           'CoastalVulnerability', 'Landslides', 'Watersheds',\n",
    "           'DeterioratingInfrastructure', 'PopulationScore', 'WetlandLoss',\n",
    "           'InadequatePlanning', 'PoliticalFactors', 'ClimateAnthropogenicInteraction',\n",
    "           'InfrastructurePreventionInteraction']\n",
    "\n",
    "for column in columns:\n",
    "    plt.figure(figsize=(10, 6))\n",
    "    sns.violinplot(x=df[column], color='lightblue')\n",
    "    plt.title(f'Violin Plot: {column}', fontsize=14)\n",
    "    plt.xlabel(column)\n",
    "    plt.ylabel('Density')\n",
    "    plt.grid(True)\n",
    "    plt.show()"
   ]
  },
  {
   "cell_type": "code",
   "execution_count": null,
   "id": "26d0fcf3-b7ab-4b30-9417-de5d083cb05f",
   "metadata": {},
   "outputs": [],
   "source": [
    "predictors = [\n",
    "    'MonsoonIntensity', 'TopographyDrainage', 'RiverManagement', 'Deforestation', \n",
    "    'Urbanization', 'ClimateChange', 'DamsQuality', 'Siltation', \n",
    "    'AgriculturalPractices', 'Encroachments', 'IneffectiveDisasterPreparedness', \n",
    "    'DrainageSystems', 'CoastalVulnerability', 'Landslides', 'Watersheds', \n",
    "    'DeterioratingInfrastructure', 'PopulationScore', 'WetlandLoss', \n",
    "    'InadequatePlanning', 'PoliticalFactors', 'ClimateAnthropogenicInteraction', \n",
    "    'InfrastructurePreventionInteraction'\n",
    "]\n",
    "\n",
    "target = 'FloodProbability'\n",
    "\n",
    "for predictor in predictors:\n",
    "    plt.figure(figsize=(10, 6))\n",
    "    sns.scatterplot(x=df[predictor], y=df[target])\n",
    "    plt.title(f'Scatter Plot: {predictor} vs {target}', fontsize=14)\n",
    "    plt.xlabel(predictor)\n",
    "    plt.ylabel(target)\n",
    "    plt.grid(True)\n",
    "    plt.show()"
   ]
  },
  {
   "cell_type": "code",
   "execution_count": null,
   "id": "5bade817-93a9-446b-a05c-a7bbfb949fd6",
   "metadata": {},
   "outputs": [],
   "source": [
    "predictors = ['MonsoonIntensity', 'TopographyDrainage', 'RiverManagement', \n",
    "               'Urbanization', 'ClimateChange', 'DamsQuality', 'Siltation',\n",
    "               'AgriculturalPractices', 'Encroachments', 'IneffectiveDisasterPreparedness', \n",
    "               'DrainageSystems', 'CoastalVulnerability', 'Landslides', 'Watersheds', \n",
    "               'DeterioratingInfrastructure', 'PopulationScore', 'WetlandLoss', \n",
    "               'InadequatePlanning', 'PoliticalFactors', 'ClimateAnthropogenicInteraction',\n",
    "               'InfrastructurePreventionInteraction']\n",
    "\n",
    "correlation_matrix = df[predictors + ['FloodProbability']].corr()\n",
    "\n",
    "plt.figure(figsize=(14, 12))\n",
    "\n",
    "sns.heatmap(\n",
    "    correlation_matrix,     \n",
    "    annot=True,                         \n",
    "    cmap='coolwarm',                    \n",
    "    fmt='.2f',                         \n",
    "    linewidths=0.5,                    \n",
    "    vmin=-1, vmax=1,                    \n",
    "    center=0                            \n",
    ")\n",
    "\n",
    "plt.title('Correlation Heatmap of Predictors and Target', fontsize=16)\n",
    "plt.show()"
   ]
  },
  {
   "cell_type": "code",
   "execution_count": null,
   "id": "8eb874d7-0b0c-45b0-a697-e23d11211363",
   "metadata": {},
   "outputs": [],
   "source": [
    "def skewness_kurtosis(df):\n",
    "    print(\"Skewness:\")\n",
    "    skewness = df.skew()\n",
    "    print(skewness)\n",
    "    \n",
    "    print(\"\\nKurtosis:\")\n",
    "    kurtosis_values = df.kurtosis()\n",
    "    print(kurtosis_values)\n",
    "\n",
    "skewness_kurtosis(df)"
   ]
  },
  {
   "cell_type": "code",
   "execution_count": 1,
   "id": "700e0c06-9068-4cee-aae2-53d19bb44312",
   "metadata": {},
   "outputs": [
    {
     "data": {
      "text/plain": [
       "'Skewness:\\n\\nMost features have positive skewness values, meaning they tend to have a longer tail on the right side of the distribution.\\nFor instance, TopographyDrainage and ClimateAnthropogenicInteraction show higher skewness, indicating these features are more skewed to the right.\\nFloodProbability has a skewness near zero, suggesting it is nearly symmetrical.\\nKurtosis:\\n\\nThe kurtosis values for most features are close to zero or slightly negative, indicating that their distributions are relatively\\nflat and lack heavy tails. For example, probaility_condition has a very low kurtosis, suggesting a distribution with lighter tails\\ncompared to a normal distribution. FloodProbability also shows a kurtosis near zero, implying a distribution that is close to normal in terms of \\ntail heaviness.'"
      ]
     },
     "execution_count": 1,
     "metadata": {},
     "output_type": "execute_result"
    }
   ],
   "source": [
    "'''Skewness:\n",
    "\n",
    "Most features have positive skewness values, meaning they tend to have a longer tail on the right side of the distribution.\n",
    "For instance, TopographyDrainage and ClimateAnthropogenicInteraction show higher skewness, indicating these features are more skewed to the right.\n",
    "FloodProbability has a skewness near zero, suggesting it is nearly symmetrical.\n",
    "Kurtosis:\n",
    "\n",
    "The kurtosis values for most features are close to zero or slightly negative, indicating that their distributions are relatively\n",
    "flat and lack heavy tails. For example, probaility_condition has a very low kurtosis, suggesting a distribution with lighter tails\n",
    "compared to a normal distribution. FloodProbability also shows a kurtosis near zero, implying a distribution that is close to normal in terms of \n",
    "tail heaviness.'''"
   ]
  },
  {
   "cell_type": "code",
   "execution_count": null,
   "id": "a418b453-8735-45b4-ba90-8e6398bad6b7",
   "metadata": {},
   "outputs": [],
   "source": []
  },
  {
   "cell_type": "code",
   "execution_count": null,
   "id": "72f3a0e0-ce34-4723-8809-88fb532b191f",
   "metadata": {},
   "outputs": [],
   "source": []
  },
  {
   "cell_type": "code",
   "execution_count": null,
   "id": "cbfb634f-88c5-4bc0-878b-da4e0b012c7d",
   "metadata": {},
   "outputs": [],
   "source": []
  },
  {
   "cell_type": "code",
   "execution_count": null,
   "id": "c90eca77-f98c-4446-94cc-118fa065de12",
   "metadata": {},
   "outputs": [],
   "source": []
  },
  {
   "cell_type": "code",
   "execution_count": null,
   "id": "e5fb7b2b-9c79-4265-a270-bfefd4790358",
   "metadata": {},
   "outputs": [],
   "source": []
  },
  {
   "cell_type": "code",
   "execution_count": null,
   "id": "a7f403c6-e87f-4e4f-96de-b804f2544bd4",
   "metadata": {},
   "outputs": [],
   "source": []
  }
 ],
 "metadata": {
  "kernelspec": {
   "display_name": "Python 3 (ipykernel)",
   "language": "python",
   "name": "python3"
  },
  "language_info": {
   "codemirror_mode": {
    "name": "ipython",
    "version": 3
   },
   "file_extension": ".py",
   "mimetype": "text/x-python",
   "name": "python",
   "nbconvert_exporter": "python",
   "pygments_lexer": "ipython3",
   "version": "3.12.3"
  }
 },
 "nbformat": 4,
 "nbformat_minor": 5
}
